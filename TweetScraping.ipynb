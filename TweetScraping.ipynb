{
 "cells": [
  {
   "cell_type": "code",
   "execution_count": 1,
   "id": "f298785f-978a-48b2-a268-8c84a8b6c578",
   "metadata": {},
   "outputs": [],
   "source": [
    "# This script is meant to scrape Twitter for Tweets based on hashtags\n",
    "# For more information about Snscrape: https://github.com/JustAnotherArchivist/snscrape\n",
    "import snscrape.modules.twitter as sntwitter\n",
    "import pandas as pd\n",
    "\n",
    "#select hashtags to search\n",
    "hashtag = \"ThanksElon\" # separate from the '#' to alaos use as filename\n",
    "hashtags = '#'+hashtag\n",
    "\n",
    "# Create output filename\n",
    "output = hashtag+'.csv'\n",
    "\n",
    "# Created a list to append all tweet attributes(data)\n",
    "attributes_container = []\n",
    "\n",
    "# Using TwitterSearchScraper to scrape data and append tweets to list\n",
    "for i,tweet in enumerate(sntwitter.TwitterSearchScraper(hashtags).get_items()):\n",
    "    if i>15000: #alter this to change the dataset size (takes about 8 minutes to scrape 10000 Tweets)\n",
    "        break\n",
    "    if tweet.lang == 'en':\n",
    "        attributes_container.append([tweet.user.username, tweet.date,\n",
    "                                     tweet.likeCount, tweet.sourceLabel, tweet.rawContent])\n",
    "    \n",
    "# Creating a dataframe to load the list\n",
    "tweets_df = pd.DataFrame(attributes_container, columns=[\"User\", \"Date Created\", \"Number of Likes\", \n",
    "                                                        \"Source of Tweet\", \"Tweet\"])\n",
    "\n",
    "# save\n",
    "tweets_df.to_csv(output)"
   ]
  },
  {
   "cell_type": "code",
   "execution_count": 17,
   "id": "0e48646a-c347-4794-ba1e-e40b738df80b",
   "metadata": {},
   "outputs": [],
   "source": [
    "# Hashtags to look at:\n",
    "##ElonMuskTwitter\n",
    "##ElonMuskTakeOver\n",
    "##MuskPlanTwitter\n",
    "##TwitterBlackout\n",
    "##TwitterShutdown\n",
    "##TwitterTakeover\n",
    "##ElonMusk\n",
    "##riptwitter\n",
    "##twittertakeover\n",
    "\n",
    "#Maybe use these?\n",
    "##twitterisdead\n",
    "##elonisdestroyingtwitter\n",
    "##elonmuskisagiantturd\n",
    "##spacekaren\n"
   ]
  },
  {
   "cell_type": "code",
   "execution_count": 3,
   "id": "44b36e19-6017-42d8-a2fc-f55cceda6f8e",
   "metadata": {},
   "outputs": [
    {
     "name": "stdout",
     "output_type": "stream",
     "text": [
      "Empty DataFrame\n",
      "Columns: [User, Date Created, Language, Number of Likes, Source of Tweet, Tweet]\n",
      "Index: []\n"
     ]
    }
   ],
   "source": [
    "print(tweets_df)"
   ]
  },
  {
   "cell_type": "code",
   "execution_count": null,
   "id": "65762a0d-53a3-48bc-8779-2b634a06e558",
   "metadata": {},
   "outputs": [],
   "source": []
  }
 ],
 "metadata": {
  "kernelspec": {
   "display_name": "Python 3 (ipykernel)",
   "language": "python",
   "name": "python3"
  },
  "language_info": {
   "codemirror_mode": {
    "name": "ipython",
    "version": 3
   },
   "file_extension": ".py",
   "mimetype": "text/x-python",
   "name": "python",
   "nbconvert_exporter": "python",
   "pygments_lexer": "ipython3",
   "version": "3.9.12"
  }
 },
 "nbformat": 4,
 "nbformat_minor": 5
}
