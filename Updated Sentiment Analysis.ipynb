{
 "cells": [
  {
   "cell_type": "markdown",
   "id": "ec7dcf11-87d1-4786-826d-4b6469462c21",
   "metadata": {},
   "source": [
    "### Sentiment Analysis\n",
    "#### AIT-526-DL1\n",
    "#### Prof. M. Heidari\n",
    "#### Team 2\n",
    "\n",
    "This script performs sentiment analysis on tweets from different hashtags using the VADER library."
   ]
  },
  {
   "cell_type": "code",
   "execution_count": 1,
   "id": "88786dc9-837e-4d46-805d-eb50b4464eed",
   "metadata": {},
   "outputs": [],
   "source": [
    "import pandas\n",
    "import nltk\n",
    "import string\n",
    "import re\n",
    "import spacy\n",
    "import en_core_web_sm\n",
    "from nltk.tokenize import RegexpTokenizer\n",
    "from nltk.sentiment.vader import SentimentIntensityAnalyzer\n",
    "\n",
    "\n",
    "# read in data\n",
    "elonmusktwitter_raw = pandas.DataFrame(pandas.read_csv(\"Data/elonmusktwitter.csv\"))\n",
    "riptwitter_raw = pandas.DataFrame(pandas.read_csv(\"Data/riptwitter.csv\"))\n",
    "thankyouelonmusk_raw = pandas.DataFrame(pandas.read_csv(\"Data/ThankYouElonMusk.csv\"))\n",
    "twittertakeover_raw = pandas.DataFrame(pandas.read_csv(\"Data/twittertakeover.csv\"))"
   ]
  },
  {
   "cell_type": "markdown",
   "id": "3c9f9d86-6520-4d7b-bcfb-0d87a7be16ad",
   "metadata": {},
   "source": [
    "Now that the data is read in, we can do a little cleaning by removing hashtags, URLs, and some tweets from bots."
   ]
  },
  {
   "cell_type": "code",
   "execution_count": 2,
   "id": "9b8010d0-3b69-43e1-8b33-b1f65edc5c10",
   "metadata": {},
   "outputs": [],
   "source": [
    "# Remove bot tweets\n",
    "not_bot_sources = [\"Twitter for iPhone\", \"Twitter for Android\", \"Twitter Web App\", \"Twitter for iPad\", \n",
    "                   \"Flamingo for Android\", \"Twitterrific for Mac\", \"Twitterrific for iOS\",\n",
    "                  \"Twitter Web Client\", \"Birdie for Twitter\", \"tweetcaster for Android\", \"Twitter Media Studio\",\n",
    "                  \"TwitPaine for Android\"]\n",
    "\n",
    "elonmusktwitter = elonmusktwitter_raw[elonmusktwitter_raw['Source of Tweet'].isin(not_bot_sources)]\n",
    "riptwitter = riptwitter_raw[riptwitter_raw['Source of Tweet'].isin(not_bot_sources)]\n",
    "thankyouelonmusk = thankyouelonmusk_raw[thankyouelonmusk_raw['Source of Tweet'].isin(not_bot_sources)]\n",
    "twittertakeover = twittertakeover_raw[twittertakeover_raw['Source of Tweet'].isin(not_bot_sources)]"
   ]
  },
  {
   "cell_type": "code",
   "execution_count": 3,
   "id": "1f3fc8ba-6bef-4853-8f96-7bf2d02d289d",
   "metadata": {},
   "outputs": [],
   "source": [
    "# Keep only tweet data\n",
    "elonmusktwitter = elonmusktwitter[\"Tweet\"]\n",
    "riptwitter = riptwitter[\"Tweet\"]\n",
    "thankyouelonmusk = thankyouelonmusk[\"Tweet\"]\n",
    "twittertakeover = twittertakeover[\"Tweet\"]\n",
    "\n",
    "# Remove URLs, random spaces, and hashtags\n",
    "elonmusktwitter = [re.sub(r\"http\\S+\", \"\", item, flags=re.MULTILINE) for item in elonmusktwitter]\n",
    "elonmusktwitter = [re.sub(r\"\\n\", \"\", item, flags=re.MULTILINE) for item in elonmusktwitter]\n",
    "elonmusktwitter = [re.sub(r\"#\\S+\", \"\", item, flags=re.MULTILINE) for item in elonmusktwitter]\n",
    "\n",
    "riptwitter = [re.sub(r\"http\\S+\", \"\", item, flags=re.MULTILINE) for item in riptwitter]\n",
    "riptwitter = [re.sub(r\"\\n\", \"\", item, flags=re.MULTILINE) for item in riptwitter]\n",
    "riptwitter = [re.sub(r\"#\\S+\", \"\", item, flags=re.MULTILINE) for item in riptwitter]\n",
    "\n",
    "thankyouelonmusk = [re.sub(r\"http\\S+\", \"\", item, flags=re.MULTILINE) for item in thankyouelonmusk]\n",
    "thankyouelonmusk = [re.sub(r\"\\n\", \"\", item, flags=re.MULTILINE) for item in thankyouelonmusk]\n",
    "thankyouelonmusk = [re.sub(r\"#\\S+\", \"\", item, flags=re.MULTILINE) for item in thankyouelonmusk]\n",
    "\n",
    "twittertakeover = [re.sub(r\"http\\S+\", \"\", item, flags=re.MULTILINE) for item in twittertakeover]\n",
    "twittertakeover = [re.sub(r\"\\n\", \"\", item, flags=re.MULTILINE) for item in twittertakeover]\n",
    "twittertakeover = [re.sub(r\"#\\S+\", \"\", item, flags=re.MULTILINE) for item in twittertakeover]"
   ]
  },
  {
   "cell_type": "markdown",
   "id": "4680f546-d4ed-4df5-8c1f-6cf2e2ed9a0b",
   "metadata": {},
   "source": [
    "Now that the data is a bit cleaner, it's time to perform sentiment analysis on each tweet."
   ]
  },
  {
   "cell_type": "code",
   "execution_count": 4,
   "id": "1ef3c3d6-bb48-4d5b-9e7d-d5f3092961a5",
   "metadata": {},
   "outputs": [
    {
     "name": "stdout",
     "output_type": "stream",
     "text": [
      "[{'neg': 0.255, 'neu': 0.745, 'pos': 0.0, 'compound': -0.6249}, {'neg': 0.0, 'neu': 1.0, 'pos': 0.0, 'compound': 0.0}, {'neg': 0.208, 'neu': 0.762, 'pos': 0.03, 'compound': -0.8271}, {'neg': 0.067, 'neu': 0.879, 'pos': 0.054, 'compound': -0.128}, {'neg': 0.126, 'neu': 0.874, 'pos': 0.0, 'compound': -0.6808}]\n",
      "[{'neg': 0.222, 'neu': 0.778, 'pos': 0.0, 'compound': -0.69}, {'neg': 0.222, 'neu': 0.778, 'pos': 0.0, 'compound': -0.69}, {'neg': 0.222, 'neu': 0.778, 'pos': 0.0, 'compound': -0.69}, {'neg': 0.222, 'neu': 0.778, 'pos': 0.0, 'compound': -0.69}, {'neg': 0.222, 'neu': 0.778, 'pos': 0.0, 'compound': -0.69}]\n"
     ]
    }
   ],
   "source": [
    "sid = SentimentIntensityAnalyzer()\n",
    "\n",
    "def GetSentiment(data):\n",
    "    sentiment_test = []\n",
    "    for tweet in data:\n",
    "        #text2 = ''.join(str(x) for x in tweet)\n",
    "        sentiment_test.append(sid.polarity_scores(tweet))\n",
    "    return sentiment_test\n",
    "\n",
    "\n",
    "elonmusktwitter_sentiment = GetSentiment(elonmusktwitter)\n",
    "riptwitter_sentiment = GetSentiment(riptwitter)\n",
    "thankyouelonmusk_sentiment = GetSentiment(thankyouelonmusk)\n",
    "twittertakeover_sentiment = GetSentiment(twittertakeover)\n",
    "\n",
    "print(elonmusktwitter_sentiment[0:5])\n",
    "print(riptwitter_sentiment[0:5])"
   ]
  },
  {
   "cell_type": "markdown",
   "id": "edab66d9-8243-4034-b835-367700b3e6af",
   "metadata": {},
   "source": [
    "Visualize the data"
   ]
  },
  {
   "cell_type": "code",
   "execution_count": 5,
   "id": "004400b9-6d1c-4fec-986c-a743d56aec64",
   "metadata": {},
   "outputs": [],
   "source": [
    "import matplotlib.pyplot as plt\n",
    "import matplotlib.colors as mcolors\n",
    "import numpy as np\n",
    "import statistics\n",
    "import math\n",
    "\n",
    "# Extract the compount scores and ratios for each tweet form the list of dictionaries for easier comparison\n",
    "#ElonMuskTwitter\n",
    "emt_compound = []\n",
    "emt_pos = []\n",
    "emt_neg = []\n",
    "emt_neu = []\n",
    "for tweet in elonmusktwitter_sentiment:\n",
    "    emt_compound.append(tweet[\"compound\"])\n",
    "    emt_pos.append(tweet[\"pos\"])\n",
    "    emt_neg.append(tweet[\"neg\"])\n",
    "    emt_neu.append(tweet[\"neu\"])\n",
    "\n",
    "#RIPTwitter   \n",
    "ript_compound = []\n",
    "ript_pos = []\n",
    "ript_neg = []\n",
    "ript_neu = []\n",
    "for tweet in riptwitter_sentiment:\n",
    "    ript_compound.append(tweet[\"compound\"])\n",
    "    ript_pos.append(tweet[\"pos\"])\n",
    "    ript_neg.append(tweet[\"neg\"])\n",
    "    ript_neu.append(tweet[\"neu\"])\n",
    "    \n",
    "#TwitterTakeover\n",
    "tt_compound = []\n",
    "tt_pos = []\n",
    "tt_neg = []\n",
    "tt_neu = []\n",
    "for tweet in twittertakeover_sentiment:\n",
    "    tt_compound.append(tweet[\"compound\"])\n",
    "    tt_pos.append(tweet[\"pos\"])\n",
    "    tt_neg.append(tweet[\"neg\"])\n",
    "    tt_neu.append(tweet[\"neu\"])\n",
    "    \n",
    "#ThankYouElonMusk\n",
    "tyem_compound = []\n",
    "tyem_pos = []\n",
    "tyem_neg = []\n",
    "tyem_neu = []\n",
    "for tweet in thankyouelonmusk_sentiment:\n",
    "    tyem_compound.append(tweet[\"compound\"])\n",
    "    tyem_pos.append(tweet[\"pos\"])\n",
    "    tyem_neg.append(tweet[\"neg\"])\n",
    "    tyem_neu.append(tweet[\"neu\"])"
   ]
  },
  {
   "cell_type": "code",
   "execution_count": 6,
   "id": "ee155ef6-2ba8-47a7-927b-c4e04476b452",
   "metadata": {},
   "outputs": [
    {
     "data": {
      "text/plain": [
       "(0.0, 3090.0)"
      ]
     },
     "execution_count": 6,
     "metadata": {},
     "output_type": "execute_result"
    },
    {
     "data": {
      "image/png": "[encoded data removed]",
      "text/plain": [
       "<Figure size 432x288 with 1 Axes>"
      ]
     },
     "metadata": {
      "needs_background": "light"
     },
     "output_type": "display_data"
    }
   ],
   "source": [
    "# An \"interface\" to matplotlib.axes.Axes.hist() method\n",
    "n, bins, patches = plt.hist(x=emt_compound, bins='auto', color='#0504aa',\n",
    "                            alpha=0.7, rwidth=0.85)\n",
    "plt.grid(axis='y', alpha=0.75)\n",
    "plt.xlabel('Value')\n",
    "plt.ylabel('Frequency')\n",
    "plt.title('VADER Compound Scores for #ElonMuskTwitter')\n",
    "plt.text(23, 45, r'$\\mu=15, b=3$')\n",
    "maxfreq = n.max()\n",
    "# Set a clean upper y-axis limit.\n",
    "plt.ylim(ymax=np.ceil(maxfreq / 10) * 10 if maxfreq % 10 else maxfreq + 10)"
   ]
  },
  {
   "cell_type": "code",
   "execution_count": 7,
   "id": "c096a139-e5e0-47a9-b65b-1b8f42cd634a",
   "metadata": {},
   "outputs": [
    {
     "data": {
      "image/png": "[encoded data removed]",
      "text/plain": [
       "<Figure size 432x288 with 1 Axes>"
      ]
     },
     "metadata": {
      "needs_background": "light"
     },
     "output_type": "display_data"
    }
   ],
   "source": [
    "# Stacked bar chart code taken from https://matplotlib.org/stable/gallery/lines_bars_and_markers/bar_stacked.html\n",
    "labels = ['ElonMuskTwitter', 'TwitterTakeover', 'ThankYouElonMusk', 'RIPTwitter']\n",
    "emt_pos_mean = statistics.mean(emt_pos)\n",
    "emt_neg_mean = statistics.mean(emt_neg)\n",
    "emt_neu_mean = statistics.mean(emt_neu)\n",
    "tt_pos_mean = statistics.mean(tt_pos)\n",
    "tt_neg_mean = statistics.mean(tt_neg)\n",
    "tt_neu_mean = statistics.mean(tt_neu)\n",
    "tyem_pos_mean = statistics.mean(tyem_pos)\n",
    "tyem_neg_mean = statistics.mean(tyem_neg)\n",
    "tyem_neu_mean = statistics.mean(tyem_neu)\n",
    "ript_pos_mean = statistics.mean(ript_pos)\n",
    "ript_neg_mean = statistics.mean(ript_neg)\n",
    "ript_neu_mean = statistics.mean(ript_neu)\n",
    "\n",
    "pos_means = [emt_pos_mean, tt_pos_mean, tyem_pos_mean, ript_pos_mean]\n",
    "neu_means = [emt_neu_mean, tt_neu_mean, tyem_neu_mean, ript_neu_mean]\n",
    "neg_means = [emt_neg_mean, tt_neg_mean, tyem_neg_mean, ript_neg_mean]\n",
    "\n",
    "width = 0.35       # the width of the bars: can also be len(x) sequence\n",
    "\n",
    "fig, ax = plt.subplots()\n",
    "ax.bar(labels, neu_means, width, label='Avg Neutral Ratio', color = 'gray')\n",
    "ax.bar(labels, pos_means, width, label='Avg Positive Ratio', color = 'green', bottom=neu_means)\n",
    "ax.bar(labels, neg_means, width, bottom=neu_means, label='Avg Negative Ratio', color = 'red')\n",
    "\n",
    "ax.set_ylabel('Average Ratio')\n",
    "ax.set_title('Average Sentiment Ratios')\n",
    "ax.legend()\n",
    "\n",
    "plt.show()\n",
    "fig.savefig('Avg Sentient Ratios by Hashtag.jpg')"
   ]
  },
  {
   "cell_type": "markdown",
   "id": "75baf155-5c09-4a88-bcc6-c7a4b54863cc",
   "metadata": {},
   "source": [
    "Since the values in the stacked bar chart are averages, they won't nicely add up to 1.0\n"
   ]
  },
  {
   "cell_type": "code",
   "execution_count": 8,
   "id": "00d132de-c995-474e-a1f3-a654b95772f4",
   "metadata": {},
   "outputs": [
    {
     "name": "stdout",
     "output_type": "stream",
     "text": [
      "The avg negative ratio for #ElonMuskTwitter is  0.07217624199138746\n",
      "The avg neutral ratio for #ElonMuskTwitter is  0.8087834261107026\n",
      "The avg positive ratio for #ElonMuskTwitter is  0.11904001680495746\n",
      "The avg compound score for #ElonMuskTwitter is  0.0882370549312047\n",
      "The avg negative ratio for #TwitterTakeover is  0.04478551741418191\n",
      "The avg neutral ratio for #TwitterTakeover is  0.8864311367242963\n",
      "The avg positive ratio for #TwitterTakeover is  0.06869782009521423\n",
      "The avg compound score for #TwitterTakeover is  0.046021297920320725\n",
      "The avg negative ratio for #ThankYouElonMusk is  0.06059339774557166\n",
      "The avg neutral ratio for #ThankYouElonMusk is  0.742390499194847\n",
      "The avg positive ratio for #ThankYouElonMusk is  0.1970112721417069\n",
      "The avg compound score for #ThankYouElonMusk is  0.25293333333333334\n",
      "The avg negative ratio for #RIPTwitter is  0.0927374358974359\n",
      "The avg neutral ratio for #RIPTwitter is  0.8022416117216117\n",
      "The avg positive ratio for #RIPTwitter is  0.10502021978021978\n",
      "The avg compound score for #RIPTwitter is  0.018332688644688646\n"
     ]
    }
   ],
   "source": [
    "print(\"The avg negative ratio for #ElonMuskTwitter is \", emt_neg_mean)\n",
    "print(\"The avg neutral ratio for #ElonMuskTwitter is \", emt_neu_mean)\n",
    "print(\"The avg positive ratio for #ElonMuskTwitter is \", emt_pos_mean)\n",
    "print(\"The avg compound score for #ElonMuskTwitter is \", statistics.mean(emt_compound))\n",
    "\n",
    "print(\"The avg negative ratio for #TwitterTakeover is \", tt_neg_mean)\n",
    "print(\"The avg neutral ratio for #TwitterTakeover is \", tt_neu_mean)\n",
    "print(\"The avg positive ratio for #TwitterTakeover is \", tt_pos_mean)\n",
    "print(\"The avg compound score for #TwitterTakeover is \", statistics.mean(tt_compound))\n",
    "\n",
    "print(\"The avg negative ratio for #ThankYouElonMusk is \", tyem_neg_mean)\n",
    "print(\"The avg neutral ratio for #ThankYouElonMusk is \", tyem_neu_mean)\n",
    "print(\"The avg positive ratio for #ThankYouElonMusk is \", tyem_pos_mean)\n",
    "print(\"The avg compound score for #ThankYouElonMusk is \", statistics.mean(tyem_compound))\n",
    "\n",
    "print(\"The avg negative ratio for #RIPTwitter is \", ript_neg_mean)\n",
    "print(\"The avg neutral ratio for #RIPTwitter is \", ript_neu_mean)\n",
    "print(\"The avg positive ratio for #RIPTwitter is \", ript_pos_mean)\n",
    "print(\"The avg compound score for #RIPTwitter is \", statistics.mean(ript_compound))"
   ]
  },
  {
   "cell_type": "code",
   "execution_count": null,
   "id": "44997c8f-6c98-44a7-8915-6fcfeef2151d",
   "metadata": {},
   "outputs": [],
   "source": []
  }
 ],
 "metadata": {
  "kernelspec": {
   "display_name": "Python 3 (ipykernel)",
   "language": "python",
   "name": "python3"
  },
  "language_info": {
   "codemirror_mode": {
    "name": "ipython",
    "version": 3
   },
   "file_extension": ".py",
   "mimetype": "text/x-python",
   "name": "python",
   "nbconvert_exporter": "python",
   "pygments_lexer": "ipython3",
   "version": "3.9.12"
  }
 },
 "nbformat": 4,
 "nbformat_minor": 5
}
